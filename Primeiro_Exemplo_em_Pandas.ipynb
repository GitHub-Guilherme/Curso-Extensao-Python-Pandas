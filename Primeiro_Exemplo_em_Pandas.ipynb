{
  "nbformat": 4,
  "nbformat_minor": 0,
  "metadata": {
    "colab": {
      "provenance": [],
      "authorship_tag": "ABX9TyPz5vNMGD2jes7rpj8MlhxC",
      "include_colab_link": true
    },
    "kernelspec": {
      "name": "python3",
      "display_name": "Python 3"
    },
    "language_info": {
      "name": "python"
    }
  },
  "cells": [
    {
      "cell_type": "markdown",
      "metadata": {
        "id": "view-in-github",
        "colab_type": "text"
      },
      "source": [
        "<a href=\"https://colab.research.google.com/github/GitHub-Guilherme/Curso-Extensao-Python-Pandas/blob/main/Primeiro_Exemplo_em_Pandas.ipynb\" target=\"_parent\"><img src=\"https://colab.research.google.com/assets/colab-badge.svg\" alt=\"Open In Colab\"/></a>"
      ]
    },
    {
      "cell_type": "markdown",
      "source": [
        "Primeiro exemplo de manipulação de dados usando Python Pandas\n",
        "\n",
        "Autor: Henrique Poyatos\n",
        "\n",
        "Data: 6 e 7 de fevereiro de 2023"
      ],
      "metadata": {
        "id": "twwmZA3_UeDi"
      }
    },
    {
      "cell_type": "code",
      "execution_count": 2,
      "metadata": {
        "id": "-TngGyF1A9YP"
      },
      "outputs": [],
      "source": [
        "#01\n",
        "# Importando biblioteca pandas no Python\n",
        "import pandas as pd\n",
        "\n",
        "combustiveis_df = pd.read_excel(\"ca-2021-02.xlsx\")"
      ]
    },
    {
      "cell_type": "code",
      "source": [
        "#08\n",
        "# Usa o print para ver o dataframe!\n",
        "\n",
        "print(combustiveis_df)"
      ],
      "metadata": {
        "id": "MHLUpuBoBCUW"
      },
      "execution_count": null,
      "outputs": []
    },
    {
      "cell_type": "code",
      "source": [
        "#09\n",
        "display(combustiveis_df)"
      ],
      "metadata": {
        "id": "NeAZaTKzCIoj"
      },
      "execution_count": null,
      "outputs": []
    },
    {
      "cell_type": "code",
      "source": [
        "#10\n",
        "#Exibe as primeiras 5 linhas\n",
        "\n",
        "display(combustiveis_df.head())"
      ],
      "metadata": {
        "id": "ikC_lUfqE5vc"
      },
      "execution_count": null,
      "outputs": []
    },
    {
      "cell_type": "code",
      "source": [
        "#11\n",
        "#Exibe as primeiras 15 linhas\n",
        "\n",
        "display(combustiveis_df.head(15))"
      ],
      "metadata": {
        "id": "pvVskMJyF_WN"
      },
      "execution_count": null,
      "outputs": []
    },
    {
      "cell_type": "code",
      "source": [
        "#12\n",
        "# Comandos Dataframe.shape e Dataframe.desctibe()\n",
        "#Mostra número de linhas e colunas\n",
        "\n",
        "print(combustiveis_df.shape)\n",
        "\n",
        "#Só as linhas | [0 = linhas] e [1 = colunas]\n",
        "\n",
        "print(combustiveis_df.shape[0])"
      ],
      "metadata": {
        "colab": {
          "base_uri": "https://localhost:8080/"
        },
        "id": "hByfcQLSGH_4",
        "outputId": "0c5dc0e0-6aa0-46bf-ebe9-104f5ce617e9"
      },
      "execution_count": 8,
      "outputs": [
        {
          "output_type": "stream",
          "name": "stdout",
          "text": [
            "(168409, 16)\n",
            "168409\n"
          ]
        }
      ]
    },
    {
      "cell_type": "code",
      "source": [
        "#14\n",
        "# Comandos Dataframe.shape e Dataframe.desctibe()\n",
        "# describe() eetorna valores estatísticos básicos do Dataframe\n",
        "\n",
        "print(combustiveis_df.describe())"
      ],
      "metadata": {
        "colab": {
          "base_uri": "https://localhost:8080/"
        },
        "id": "mR-t38KUISty",
        "outputId": "a0e25b5f-d772-4886-905a-e26b3f9122d2"
      },
      "execution_count": 9,
      "outputs": [
        {
          "output_type": "stream",
          "name": "stdout",
          "text": [
            "       Valor de Venda  Valor de Compra\n",
            "count   168409.000000              0.0\n",
            "mean         6.005184              NaN\n",
            "std          0.794541              NaN\n",
            "min          2.849000              NaN\n",
            "25%          5.339000              NaN\n",
            "50%          5.859000              NaN\n",
            "75%          6.699000              NaN\n",
            "max          8.990000              NaN\n"
          ]
        }
      ]
    },
    {
      "cell_type": "code",
      "source": [
        "#13\n",
        "#Quais são as colunas e que tipo de dados cada uma tem\n",
        "#Objeto - string\n",
        "# datetime = data\n",
        "# float64 = número não inteiro, flutuante\n",
        "\n",
        "print(combustiveis_df.info())"
      ],
      "metadata": {
        "id": "LkgvLMDlIViC"
      },
      "execution_count": null,
      "outputs": []
    },
    {
      "cell_type": "code",
      "source": [
        "#15\n",
        "# Quando quero filtrar informações do DataFrame, com base no info\n",
        "#Filtrar apenas por uma coluna, no caso NOME DO POSTO\n",
        "\n",
        "display(combustiveis_df['Revenda'])"
      ],
      "metadata": {
        "colab": {
          "base_uri": "https://localhost:8080/",
          "height": 225
        },
        "id": "NqASv5V4YMlJ",
        "outputId": "f08d4d04-edbf-4dda-9d72-ba23f15ccafa"
      },
      "execution_count": 138,
      "outputs": [
        {
          "output_type": "display_data",
          "data": {
            "text/plain": [
              "0                               POSTO ARAPIRACA LTDA\n",
              "1                               POSTO ARAPIRACA LTDA\n",
              "2                               POSTO ARAPIRACA LTDA\n",
              "3                               POSTO ARAPIRACA LTDA\n",
              "4                               POSTO ARAPIRACA LTDA\n",
              "                             ...                    \n",
              "168404    COMERCIAL DE COMBUSTIVEL CACHOEIRINHA LTDA\n",
              "168405             ABC DISTRIBUICAO DE PETROLEO LTDA\n",
              "168406             ABC DISTRIBUICAO DE PETROLEO LTDA\n",
              "168407             ABC DISTRIBUICAO DE PETROLEO LTDA\n",
              "168408             ABC DISTRIBUICAO DE PETROLEO LTDA\n",
              "Name: Revenda, Length: 168409, dtype: object"
            ]
          },
          "metadata": {}
        }
      ]
    },
    {
      "cell_type": "code",
      "source": [
        "#15\n",
        "#Aqui criamos um novo DataFrame apenas com as colunas que eu quero\n",
        "\n",
        "ca_df = combustiveis_df[['Revenda', 'Municipio', 'Produto','Valor de Venda', 'Bairro']] "
      ],
      "metadata": {
        "id": "ga9wb79WYnlQ"
      },
      "execution_count": 45,
      "outputs": []
    },
    {
      "cell_type": "code",
      "source": [
        "#16\n",
        "display(ca_df)"
      ],
      "metadata": {
        "id": "fniZizJlaMyg"
      },
      "execution_count": null,
      "outputs": []
    },
    {
      "cell_type": "code",
      "source": [
        "#17\n",
        "#Exibe a 4ª Linha // lembrando que começa em zero\n",
        "display(ca_df.loc[3])"
      ],
      "metadata": {
        "id": "zyGelkyRbz4o"
      },
      "execution_count": null,
      "outputs": []
    },
    {
      "cell_type": "code",
      "source": [
        "#18\n",
        "#Se eu quiser exibir um intervalo, da 10ª até a 20ª, por exemplo\n",
        "display(ca_df.loc[9:19])"
      ],
      "metadata": {
        "id": "UwLCcrN5cAb5"
      },
      "execution_count": null,
      "outputs": []
    },
    {
      "cell_type": "code",
      "source": [
        "#19\n",
        "from pandas.core.dtypes.dtypes import Ordered\n",
        "# Criar um dataframe gas_df contendo \n",
        "# apenas as 4 colunas (Revenda, Municipio, Produto, Valor de Venda)\n",
        "# somente com combustível sendo GASOLINA e exibir na tela\n",
        "gas_df = ca_df.loc[ca_df['Produto'] == 'GASOLINA']\n",
        "display(gas_df)\n",
        "\n",
        "display(gas_df['Valor de Venda'].max())\n"
      ],
      "metadata": {
        "id": "D8c90nz4HZgT"
      },
      "execution_count": null,
      "outputs": []
    },
    {
      "cell_type": "code",
      "source": [
        "#20\n",
        "#Exibir qual é o posto e municipio da gasolina mais cara do pais\n",
        "\n",
        "display(gas_df[['Revenda', 'Municipio', 'Valor de Venda']].max())"
      ],
      "metadata": {
        "colab": {
          "base_uri": "https://localhost:8080/",
          "height": 86
        },
        "id": "N8eTzQ9IJ_4F",
        "outputId": "f11ed042-be46-4593-d222-9676b1f362bb"
      },
      "execution_count": 31,
      "outputs": [
        {
          "output_type": "display_data",
          "data": {
            "text/plain": [
              "Revenda           ZV POSTO DE SERVIÇO LTDA.\n",
              "Municipio                           XANXERE\n",
              "Valor de Venda                        7.999\n",
              "dtype: object"
            ]
          },
          "metadata": {}
        }
      ]
    },
    {
      "cell_type": "code",
      "source": [
        "#21\n",
        "#DataFrame.loc[] com múltiplas condições para filtragem\n",
        "#Quais são so preços do ETANOL na minha cidade\n",
        "#Ordenado do menor preço para o maior\n",
        "etanol_indaiatuba_df = ca_df.loc[(ca_df['Produto'] == 'ETANOL') & (ca_df['Municipio'] == 'INDAIATUBA')]\n",
        "display(etanol_indaiatuba_df.sort_values(by='Valor de Venda',))"
      ],
      "metadata": {
        "id": "92H1bE0NKje_"
      },
      "execution_count": null,
      "outputs": []
    },
    {
      "cell_type": "code",
      "source": [
        "\n",
        "#22A\n",
        "# Qual a média de preços dos combustíveis GASOLINA E GASOLINA ADITIVADA do bairro MOOCA em SÃO PAULO?\n",
        "\n",
        "display(\n",
        "    combustiveis_df.loc[\n",
        "        (combustiveis_df['Bairro'] == 'MOOCA') & \n",
        "        (combustiveis_df['Municipio'] == 'SAO PAULO') & \n",
        "        ((combustiveis_df['Produto'] == 'GASOLINA') | (combustiveis_df['Produto'] =='GASOLINA ADITIVADA')), #condições  (& = e / | = ou)\n",
        "        ['Valor de Venda']                #depois da virgula, inserir o valor da coluna desejada\n",
        "        ]\n",
        "        .mean()                                  #fora do .loc[] inserir função mean() para tirar a média\n",
        "        )\n",
        "\n"
      ],
      "metadata": {
        "colab": {
          "base_uri": "https://localhost:8080/",
          "height": 52
        },
        "id": "Pnr1IGQWMEq9",
        "outputId": "1cb0feff-2155-4fbf-eb6e-157390d2f430"
      },
      "execution_count": 81,
      "outputs": [
        {
          "output_type": "display_data",
          "data": {
            "text/plain": [
              "Valor de Venda    6.575596\n",
              "dtype: float64"
            ]
          },
          "metadata": {}
        }
      ]
    },
    {
      "cell_type": "code",
      "source": [
        "#22B\n",
        "# Qual a média de preços dos combustíveis GASOLINA E GASOLINA ADITIVADA do bairro MOOCA em SÃO PAULO? Utilizando DataFrame,isin()\n",
        "\n",
        "display(\n",
        "    combustiveis_df.loc[\n",
        "        (combustiveis_df['Bairro'] == 'MOOCA') & \n",
        "        (combustiveis_df['Municipio'] == 'SAO PAULO') & \n",
        "        (combustiveis_df['Produto'].isin (['GASOLINA', 'GASOLINA ADITIVADA'])), #condições apenas alterando condição OU para função isin([])\n",
        "        ['Valor de Venda']                #depois da virgula, inserir o valor da coluna desejada\n",
        "        ]\n",
        "        .mean()                                  #fora do .loc[] inserir função mean() para tirar a média\n",
        "        )\n"
      ],
      "metadata": {
        "colab": {
          "base_uri": "https://localhost:8080/",
          "height": 52
        },
        "id": "bY-Y6-DfdZK9",
        "outputId": "1886e128-cb99-4eee-f27d-aa05a1dbd971"
      },
      "execution_count": 87,
      "outputs": [
        {
          "output_type": "display_data",
          "data": {
            "text/plain": [
              "Valor de Venda    6.575596\n",
              "dtype: float64"
            ]
          },
          "metadata": {}
        }
      ]
    },
    {
      "cell_type": "code",
      "source": [
        "#23\n",
        "#Como mostrar a média de valor de venda POR COMBUSTIVEL do Brasil todo?\n",
        "\n",
        "media_por_combustivel_df = ca_df[['Produto', 'Valor de Venda']].groupby(by='Produto').mean().round(2)\n",
        "display(media_por_combustivel_df)        \n"
      ],
      "metadata": {
        "id": "IMih0cuGeb9-"
      },
      "execution_count": null,
      "outputs": []
    },
    {
      "cell_type": "code",
      "source": [
        "#24\n",
        "# Quero adicionar uma coluna de valor booleano chamada \"Ativo\" que por padrão vai ser True para TODAS as linhas\n",
        "#booleano é um tipo de variável que tem dois estados\n",
        "combustiveis_df['Ativo'] = True\n",
        "print(combustiveis_df.info())\n",
        "display(combustiveis_df.head())\n"
      ],
      "metadata": {
        "id": "XOXgE19jj5iJ"
      },
      "execution_count": null,
      "outputs": []
    },
    {
      "cell_type": "code",
      "source": [
        "from xlrd import xlsx\n",
        "#25\n",
        "# Exportar para Excel o dataframe com etanol em Indaiatuba...\n",
        "\n",
        "etanol_indaiatuba_df.to_excel('etanol_indaiatuba.xlsx', sheet_name= 'Etanol em Indaiatuba', index=False)  #index=False para não trazer o número das linhas do DataFrame original\n",
        "\n"
      ],
      "metadata": {
        "id": "4h4_3j9PmZDO"
      },
      "execution_count": 137,
      "outputs": []
    }
  ]
}