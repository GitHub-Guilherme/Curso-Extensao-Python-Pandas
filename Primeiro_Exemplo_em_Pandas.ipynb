{
  "nbformat": 4,
  "nbformat_minor": 0,
  "metadata": {
    "colab": {
      "provenance": [],
      "authorship_tag": "ABX9TyOLjrhAxXYA+90S0twKbJc/",
      "include_colab_link": true
    },
    "kernelspec": {
      "name": "python3",
      "display_name": "Python 3"
    },
    "language_info": {
      "name": "python"
    }
  },
  "cells": [
    {
      "cell_type": "markdown",
      "metadata": {
        "id": "view-in-github",
        "colab_type": "text"
      },
      "source": [
        "<a href=\"https://colab.research.google.com/github/GitHub-Guilherme/Curso-Extensao-Python-Pandas/blob/main/Primeiro_Exemplo_em_Pandas.ipynb\" target=\"_parent\"><img src=\"https://colab.research.google.com/assets/colab-badge.svg\" alt=\"Open In Colab\"/></a>"
      ]
    },
    {
      "cell_type": "markdown",
      "source": [
        "Primeiro exemplo de manipulação de dados usando Python Pandas\n",
        "\n",
        "Autor: Henrique Poyatos\n",
        "\n",
        "Data: 6 e 7 de fevereiro de 2023"
      ],
      "metadata": {
        "id": "twwmZA3_UeDi"
      }
    },
    {
      "cell_type": "code",
      "execution_count": 2,
      "metadata": {
        "id": "-TngGyF1A9YP"
      },
      "outputs": [],
      "source": [
        "# Importando biblioteca pandas no Python\n",
        "import pandas as pd\n",
        "\n",
        "combustiveis_df = pd.read_excel(\"ca-2021-02.xlsx\")"
      ]
    },
    {
      "cell_type": "code",
      "source": [
        "# Usa o print para ver o dataframe!\n",
        "\n",
        "print(combustiveis_df)"
      ],
      "metadata": {
        "id": "MHLUpuBoBCUW"
      },
      "execution_count": null,
      "outputs": []
    },
    {
      "cell_type": "code",
      "source": [
        "display(combustiveis_df)"
      ],
      "metadata": {
        "id": "NeAZaTKzCIoj"
      },
      "execution_count": null,
      "outputs": []
    },
    {
      "cell_type": "code",
      "source": [
        "#Exibe as primeiras 5 linhas\n",
        "\n",
        "display(combustiveis_df.head())"
      ],
      "metadata": {
        "id": "ikC_lUfqE5vc"
      },
      "execution_count": null,
      "outputs": []
    },
    {
      "cell_type": "code",
      "source": [
        "#Exibe as primeiras 15 linhas\n",
        "\n",
        "display(combustiveis_df.head(15))"
      ],
      "metadata": {
        "id": "pvVskMJyF_WN"
      },
      "execution_count": null,
      "outputs": []
    },
    {
      "cell_type": "code",
      "source": [
        "# Comandos Dataframe.shape e Dataframe.desctibe()\n",
        "#Mostra número de linhas e colunas\n",
        "\n",
        "print(combustiveis_df.shape)\n",
        "\n",
        "#Só as linhas | [0 = linhas] e [1 = colunas]\n",
        "\n",
        "print(combustiveis_df.shape[0])"
      ],
      "metadata": {
        "colab": {
          "base_uri": "https://localhost:8080/"
        },
        "id": "hByfcQLSGH_4",
        "outputId": "206b6e87-cb6d-4c3c-a387-45ce2b839517"
      },
      "execution_count": 16,
      "outputs": [
        {
          "output_type": "stream",
          "name": "stdout",
          "text": [
            "(168409, 16)\n",
            "168409\n"
          ]
        }
      ]
    },
    {
      "cell_type": "code",
      "source": [
        "# Comandos Dataframe.shape e Dataframe.desctibe()\n",
        "# describe() eetorna valores estatísticos básicos do Dataframe\n",
        "\n",
        "print(combustiveis_df.describe())"
      ],
      "metadata": {
        "colab": {
          "base_uri": "https://localhost:8080/"
        },
        "id": "mR-t38KUISty",
        "outputId": "e8ba4f34-c2b9-469a-b743-12a1dcc8245f"
      },
      "execution_count": 20,
      "outputs": [
        {
          "output_type": "stream",
          "name": "stdout",
          "text": [
            "       Valor de Venda  Valor de Compra\n",
            "count   168409.000000              0.0\n",
            "mean         6.005184              NaN\n",
            "std          0.794541              NaN\n",
            "min          2.849000              NaN\n",
            "25%          5.339000              NaN\n",
            "50%          5.859000              NaN\n",
            "75%          6.699000              NaN\n",
            "max          8.990000              NaN\n"
          ]
        }
      ]
    },
    {
      "cell_type": "code",
      "source": [
        "#Quais são as colunas e que tipo de dados cada uma tem\n",
        "#Objeto - string\n",
        "# datetime = data\n",
        "# float64 = número não inteiro, flutuante\n",
        "\n",
        "print(combustiveis_df.info())"
      ],
      "metadata": {
        "colab": {
          "base_uri": "https://localhost:8080/"
        },
        "id": "LkgvLMDlIViC",
        "outputId": "db55ef05-63ea-48b7-c285-c60cc0badd32"
      },
      "execution_count": 21,
      "outputs": [
        {
          "output_type": "stream",
          "name": "stdout",
          "text": [
            "<class 'pandas.core.frame.DataFrame'>\n",
            "RangeIndex: 168409 entries, 0 to 168408\n",
            "Data columns (total 16 columns):\n",
            " #   Column             Non-Null Count   Dtype         \n",
            "---  ------             --------------   -----         \n",
            " 0   Regiao - Sigla     168409 non-null  object        \n",
            " 1   Estado - Sigla     168409 non-null  object        \n",
            " 2   Municipio          168409 non-null  object        \n",
            " 3   Revenda            168409 non-null  object        \n",
            " 4   CNPJ da Revenda    168409 non-null  object        \n",
            " 5   Nome da Rua        168409 non-null  object        \n",
            " 6   Numero Rua         168353 non-null  object        \n",
            " 7   Complemento        35057 non-null   object        \n",
            " 8   Bairro             168043 non-null  object        \n",
            " 9   Cep                168409 non-null  object        \n",
            " 10  Produto            168409 non-null  object        \n",
            " 11  Data da Coleta     168409 non-null  datetime64[ns]\n",
            " 12  Valor de Venda     168409 non-null  float64       \n",
            " 13  Valor de Compra    0 non-null       float64       \n",
            " 14  Unidade de Medida  168409 non-null  object        \n",
            " 15  Bandeira           168409 non-null  object        \n",
            "dtypes: datetime64[ns](1), float64(2), object(13)\n",
            "memory usage: 20.6+ MB\n",
            "None\n"
          ]
        }
      ]
    },
    {
      "cell_type": "code",
      "source": [
        "# Quando quero filtrar informações do DataFrame, com base no info\n",
        "#Filtrar apenas por uma coluna, no caso NOME DO POSTO\n",
        "\n",
        "display(combustiveis_df['Revenda'])"
      ],
      "metadata": {
        "colab": {
          "base_uri": "https://localhost:8080/",
          "height": 225
        },
        "id": "NqASv5V4YMlJ",
        "outputId": "c8aae10f-77d6-48f0-e747-5a76505572c9"
      },
      "execution_count": 22,
      "outputs": [
        {
          "output_type": "display_data",
          "data": {
            "text/plain": [
              "0                               POSTO ARAPIRACA LTDA\n",
              "1                               POSTO ARAPIRACA LTDA\n",
              "2                               POSTO ARAPIRACA LTDA\n",
              "3                               POSTO ARAPIRACA LTDA\n",
              "4                               POSTO ARAPIRACA LTDA\n",
              "                             ...                    \n",
              "168404    COMERCIAL DE COMBUSTIVEL CACHOEIRINHA LTDA\n",
              "168405             ABC DISTRIBUICAO DE PETROLEO LTDA\n",
              "168406             ABC DISTRIBUICAO DE PETROLEO LTDA\n",
              "168407             ABC DISTRIBUICAO DE PETROLEO LTDA\n",
              "168408             ABC DISTRIBUICAO DE PETROLEO LTDA\n",
              "Name: Revenda, Length: 168409, dtype: object"
            ]
          },
          "metadata": {}
        }
      ]
    },
    {
      "cell_type": "code",
      "source": [
        "#Aqui criamos um novo DataFrame apenas com as colunas que eu quero\n",
        "\n",
        "ca_df = combustiveis_df[['Revenda', 'Municipio', 'Produto','Valor de Venda']] "
      ],
      "metadata": {
        "id": "ga9wb79WYnlQ"
      },
      "execution_count": 31,
      "outputs": []
    },
    {
      "cell_type": "code",
      "source": [
        "display(ca_df)"
      ],
      "metadata": {
        "colab": {
          "base_uri": "https://localhost:8080/",
          "height": 423
        },
        "id": "fniZizJlaMyg",
        "outputId": "640f9174-7171-44f0-a7fd-81d06c95e820"
      },
      "execution_count": 32,
      "outputs": [
        {
          "output_type": "display_data",
          "data": {
            "text/plain": [
              "                                           Revenda  Municipio  \\\n",
              "0                             POSTO ARAPIRACA LTDA  ARAPIRACA   \n",
              "1                             POSTO ARAPIRACA LTDA  ARAPIRACA   \n",
              "2                             POSTO ARAPIRACA LTDA  ARAPIRACA   \n",
              "3                             POSTO ARAPIRACA LTDA  ARAPIRACA   \n",
              "4                             POSTO ARAPIRACA LTDA  ARAPIRACA   \n",
              "...                                            ...        ...   \n",
              "168404  COMERCIAL DE COMBUSTIVEL CACHOEIRINHA LTDA     JEQUIE   \n",
              "168405           ABC DISTRIBUICAO DE PETROLEO LTDA  ITUIUTABA   \n",
              "168406           ABC DISTRIBUICAO DE PETROLEO LTDA  ITUIUTABA   \n",
              "168407           ABC DISTRIBUICAO DE PETROLEO LTDA  ITUIUTABA   \n",
              "168408           ABC DISTRIBUICAO DE PETROLEO LTDA  ITUIUTABA   \n",
              "\n",
              "                   Produto  Valor de Venda  \n",
              "0                 GASOLINA           6.799  \n",
              "1                   ETANOL           5.299  \n",
              "2                   DIESEL           5.549  \n",
              "3       GASOLINA ADITIVADA           6.899  \n",
              "4               DIESEL S10           5.649  \n",
              "...                    ...             ...  \n",
              "168404              ETANOL           5.859  \n",
              "168405            GASOLINA           6.580  \n",
              "168406              ETANOL           4.740  \n",
              "168407          DIESEL S10           5.448  \n",
              "168408  GASOLINA ADITIVADA           6.580  \n",
              "\n",
              "[168409 rows x 4 columns]"
            ],
            "text/html": [
              "\n",
              "  <div id=\"df-445f4fbf-56d7-4104-a918-9415b7e81a30\">\n",
              "    <div class=\"colab-df-container\">\n",
              "      <div>\n",
              "<style scoped>\n",
              "    .dataframe tbody tr th:only-of-type {\n",
              "        vertical-align: middle;\n",
              "    }\n",
              "\n",
              "    .dataframe tbody tr th {\n",
              "        vertical-align: top;\n",
              "    }\n",
              "\n",
              "    .dataframe thead th {\n",
              "        text-align: right;\n",
              "    }\n",
              "</style>\n",
              "<table border=\"1\" class=\"dataframe\">\n",
              "  <thead>\n",
              "    <tr style=\"text-align: right;\">\n",
              "      <th></th>\n",
              "      <th>Revenda</th>\n",
              "      <th>Municipio</th>\n",
              "      <th>Produto</th>\n",
              "      <th>Valor de Venda</th>\n",
              "    </tr>\n",
              "  </thead>\n",
              "  <tbody>\n",
              "    <tr>\n",
              "      <th>0</th>\n",
              "      <td>POSTO ARAPIRACA LTDA</td>\n",
              "      <td>ARAPIRACA</td>\n",
              "      <td>GASOLINA</td>\n",
              "      <td>6.799</td>\n",
              "    </tr>\n",
              "    <tr>\n",
              "      <th>1</th>\n",
              "      <td>POSTO ARAPIRACA LTDA</td>\n",
              "      <td>ARAPIRACA</td>\n",
              "      <td>ETANOL</td>\n",
              "      <td>5.299</td>\n",
              "    </tr>\n",
              "    <tr>\n",
              "      <th>2</th>\n",
              "      <td>POSTO ARAPIRACA LTDA</td>\n",
              "      <td>ARAPIRACA</td>\n",
              "      <td>DIESEL</td>\n",
              "      <td>5.549</td>\n",
              "    </tr>\n",
              "    <tr>\n",
              "      <th>3</th>\n",
              "      <td>POSTO ARAPIRACA LTDA</td>\n",
              "      <td>ARAPIRACA</td>\n",
              "      <td>GASOLINA ADITIVADA</td>\n",
              "      <td>6.899</td>\n",
              "    </tr>\n",
              "    <tr>\n",
              "      <th>4</th>\n",
              "      <td>POSTO ARAPIRACA LTDA</td>\n",
              "      <td>ARAPIRACA</td>\n",
              "      <td>DIESEL S10</td>\n",
              "      <td>5.649</td>\n",
              "    </tr>\n",
              "    <tr>\n",
              "      <th>...</th>\n",
              "      <td>...</td>\n",
              "      <td>...</td>\n",
              "      <td>...</td>\n",
              "      <td>...</td>\n",
              "    </tr>\n",
              "    <tr>\n",
              "      <th>168404</th>\n",
              "      <td>COMERCIAL DE COMBUSTIVEL CACHOEIRINHA LTDA</td>\n",
              "      <td>JEQUIE</td>\n",
              "      <td>ETANOL</td>\n",
              "      <td>5.859</td>\n",
              "    </tr>\n",
              "    <tr>\n",
              "      <th>168405</th>\n",
              "      <td>ABC DISTRIBUICAO DE PETROLEO LTDA</td>\n",
              "      <td>ITUIUTABA</td>\n",
              "      <td>GASOLINA</td>\n",
              "      <td>6.580</td>\n",
              "    </tr>\n",
              "    <tr>\n",
              "      <th>168406</th>\n",
              "      <td>ABC DISTRIBUICAO DE PETROLEO LTDA</td>\n",
              "      <td>ITUIUTABA</td>\n",
              "      <td>ETANOL</td>\n",
              "      <td>4.740</td>\n",
              "    </tr>\n",
              "    <tr>\n",
              "      <th>168407</th>\n",
              "      <td>ABC DISTRIBUICAO DE PETROLEO LTDA</td>\n",
              "      <td>ITUIUTABA</td>\n",
              "      <td>DIESEL S10</td>\n",
              "      <td>5.448</td>\n",
              "    </tr>\n",
              "    <tr>\n",
              "      <th>168408</th>\n",
              "      <td>ABC DISTRIBUICAO DE PETROLEO LTDA</td>\n",
              "      <td>ITUIUTABA</td>\n",
              "      <td>GASOLINA ADITIVADA</td>\n",
              "      <td>6.580</td>\n",
              "    </tr>\n",
              "  </tbody>\n",
              "</table>\n",
              "<p>168409 rows × 4 columns</p>\n",
              "</div>\n",
              "      <button class=\"colab-df-convert\" onclick=\"convertToInteractive('df-445f4fbf-56d7-4104-a918-9415b7e81a30')\"\n",
              "              title=\"Convert this dataframe to an interactive table.\"\n",
              "              style=\"display:none;\">\n",
              "        \n",
              "  <svg xmlns=\"http://www.w3.org/2000/svg\" height=\"24px\"viewBox=\"0 0 24 24\"\n",
              "       width=\"24px\">\n",
              "    <path d=\"M0 0h24v24H0V0z\" fill=\"none\"/>\n",
              "    <path d=\"M18.56 5.44l.94 2.06.94-2.06 2.06-.94-2.06-.94-.94-2.06-.94 2.06-2.06.94zm-11 1L8.5 8.5l.94-2.06 2.06-.94-2.06-.94L8.5 2.5l-.94 2.06-2.06.94zm10 10l.94 2.06.94-2.06 2.06-.94-2.06-.94-.94-2.06-.94 2.06-2.06.94z\"/><path d=\"M17.41 7.96l-1.37-1.37c-.4-.4-.92-.59-1.43-.59-.52 0-1.04.2-1.43.59L10.3 9.45l-7.72 7.72c-.78.78-.78 2.05 0 2.83L4 21.41c.39.39.9.59 1.41.59.51 0 1.02-.2 1.41-.59l7.78-7.78 2.81-2.81c.8-.78.8-2.07 0-2.86zM5.41 20L4 18.59l7.72-7.72 1.47 1.35L5.41 20z\"/>\n",
              "  </svg>\n",
              "      </button>\n",
              "      \n",
              "  <style>\n",
              "    .colab-df-container {\n",
              "      display:flex;\n",
              "      flex-wrap:wrap;\n",
              "      gap: 12px;\n",
              "    }\n",
              "\n",
              "    .colab-df-convert {\n",
              "      background-color: #E8F0FE;\n",
              "      border: none;\n",
              "      border-radius: 50%;\n",
              "      cursor: pointer;\n",
              "      display: none;\n",
              "      fill: #1967D2;\n",
              "      height: 32px;\n",
              "      padding: 0 0 0 0;\n",
              "      width: 32px;\n",
              "    }\n",
              "\n",
              "    .colab-df-convert:hover {\n",
              "      background-color: #E2EBFA;\n",
              "      box-shadow: 0px 1px 2px rgba(60, 64, 67, 0.3), 0px 1px 3px 1px rgba(60, 64, 67, 0.15);\n",
              "      fill: #174EA6;\n",
              "    }\n",
              "\n",
              "    [theme=dark] .colab-df-convert {\n",
              "      background-color: #3B4455;\n",
              "      fill: #D2E3FC;\n",
              "    }\n",
              "\n",
              "    [theme=dark] .colab-df-convert:hover {\n",
              "      background-color: #434B5C;\n",
              "      box-shadow: 0px 1px 3px 1px rgba(0, 0, 0, 0.15);\n",
              "      filter: drop-shadow(0px 1px 2px rgba(0, 0, 0, 0.3));\n",
              "      fill: #FFFFFF;\n",
              "    }\n",
              "  </style>\n",
              "\n",
              "      <script>\n",
              "        const buttonEl =\n",
              "          document.querySelector('#df-445f4fbf-56d7-4104-a918-9415b7e81a30 button.colab-df-convert');\n",
              "        buttonEl.style.display =\n",
              "          google.colab.kernel.accessAllowed ? 'block' : 'none';\n",
              "\n",
              "        async function convertToInteractive(key) {\n",
              "          const element = document.querySelector('#df-445f4fbf-56d7-4104-a918-9415b7e81a30');\n",
              "          const dataTable =\n",
              "            await google.colab.kernel.invokeFunction('convertToInteractive',\n",
              "                                                     [key], {});\n",
              "          if (!dataTable) return;\n",
              "\n",
              "          const docLinkHtml = 'Like what you see? Visit the ' +\n",
              "            '<a target=\"_blank\" href=https://colab.research.google.com/notebooks/data_table.ipynb>data table notebook</a>'\n",
              "            + ' to learn more about interactive tables.';\n",
              "          element.innerHTML = '';\n",
              "          dataTable['output_type'] = 'display_data';\n",
              "          await google.colab.output.renderOutput(dataTable, element);\n",
              "          const docLink = document.createElement('div');\n",
              "          docLink.innerHTML = docLinkHtml;\n",
              "          element.appendChild(docLink);\n",
              "        }\n",
              "      </script>\n",
              "    </div>\n",
              "  </div>\n",
              "  "
            ]
          },
          "metadata": {}
        }
      ]
    },
    {
      "cell_type": "code",
      "source": [
        "#Exibe a 4ª Linha // lembrando que começa em zero\n",
        "display(ca_df.loc[3])"
      ],
      "metadata": {
        "colab": {
          "base_uri": "https://localhost:8080/",
          "height": 104
        },
        "id": "zyGelkyRbz4o",
        "outputId": "35566324-2d95-4475-8a32-0d1c2609eb1e"
      },
      "execution_count": 33,
      "outputs": [
        {
          "output_type": "display_data",
          "data": {
            "text/plain": [
              "Revenda           POSTO ARAPIRACA LTDA\n",
              "Municipio                    ARAPIRACA\n",
              "Produto             GASOLINA ADITIVADA\n",
              "Valor de Venda                   6.899\n",
              "Name: 3, dtype: object"
            ]
          },
          "metadata": {}
        }
      ]
    },
    {
      "cell_type": "code",
      "source": [
        "#Se eu quiser exibir um intervalo, da 10ª até a 20ª, por exemplo\n",
        "display(ca_df.loc[9:19])"
      ],
      "metadata": {
        "colab": {
          "base_uri": "https://localhost:8080/",
          "height": 394
        },
        "id": "UwLCcrN5cAb5",
        "outputId": "ed90a06f-abfb-49f6-c5d9-1e12ca7b3837"
      },
      "execution_count": 41,
      "outputs": [
        {
          "output_type": "display_data",
          "data": {
            "text/plain": [
              "                                  Revenda        Municipio  \\\n",
              "9          AUTO POSTO FREITAS & MAIA LTDA  DELMIRO GOUVEIA   \n",
              "10               AUTO POSTO DA PEDRA LTDA  DELMIRO GOUVEIA   \n",
              "11               AUTO POSTO DA PEDRA LTDA  DELMIRO GOUVEIA   \n",
              "12               AUTO POSTO DA PEDRA LTDA  DELMIRO GOUVEIA   \n",
              "13               AUTO POSTO DA PEDRA LTDA  DELMIRO GOUVEIA   \n",
              "14  COMERCIO DE COMBUSTIVEIS NENZITA LTDA  DELMIRO GOUVEIA   \n",
              "15  COMERCIO DE COMBUSTIVEIS NENZITA LTDA  DELMIRO GOUVEIA   \n",
              "16  COMERCIO DE COMBUSTIVEIS NENZITA LTDA  DELMIRO GOUVEIA   \n",
              "17  COMERCIO DE COMBUSTIVEIS NENZITA LTDA  DELMIRO GOUVEIA   \n",
              "18  COMERCIO DE COMBUSTIVEIS NENZITA LTDA  DELMIRO GOUVEIA   \n",
              "19         MARCOS ANTONIO DA SILVA CABRAL      ITACOATIARA   \n",
              "\n",
              "               Produto  Valor de Venda  \n",
              "9           DIESEL S10           5.983  \n",
              "10            GASOLINA           7.197  \n",
              "11              ETANOL           5.987  \n",
              "12              DIESEL           5.978  \n",
              "13          DIESEL S10           5.989  \n",
              "14            GASOLINA           7.175  \n",
              "15              ETANOL           5.930  \n",
              "16              DIESEL           5.955  \n",
              "17  GASOLINA ADITIVADA           7.175  \n",
              "18          DIESEL S10           5.980  \n",
              "19            GASOLINA           6.990  "
            ],
            "text/html": [
              "\n",
              "  <div id=\"df-7275c5fc-90c5-44ff-a163-400ffcdf11cc\">\n",
              "    <div class=\"colab-df-container\">\n",
              "      <div>\n",
              "<style scoped>\n",
              "    .dataframe tbody tr th:only-of-type {\n",
              "        vertical-align: middle;\n",
              "    }\n",
              "\n",
              "    .dataframe tbody tr th {\n",
              "        vertical-align: top;\n",
              "    }\n",
              "\n",
              "    .dataframe thead th {\n",
              "        text-align: right;\n",
              "    }\n",
              "</style>\n",
              "<table border=\"1\" class=\"dataframe\">\n",
              "  <thead>\n",
              "    <tr style=\"text-align: right;\">\n",
              "      <th></th>\n",
              "      <th>Revenda</th>\n",
              "      <th>Municipio</th>\n",
              "      <th>Produto</th>\n",
              "      <th>Valor de Venda</th>\n",
              "    </tr>\n",
              "  </thead>\n",
              "  <tbody>\n",
              "    <tr>\n",
              "      <th>9</th>\n",
              "      <td>AUTO POSTO FREITAS &amp; MAIA LTDA</td>\n",
              "      <td>DELMIRO GOUVEIA</td>\n",
              "      <td>DIESEL S10</td>\n",
              "      <td>5.983</td>\n",
              "    </tr>\n",
              "    <tr>\n",
              "      <th>10</th>\n",
              "      <td>AUTO POSTO DA PEDRA LTDA</td>\n",
              "      <td>DELMIRO GOUVEIA</td>\n",
              "      <td>GASOLINA</td>\n",
              "      <td>7.197</td>\n",
              "    </tr>\n",
              "    <tr>\n",
              "      <th>11</th>\n",
              "      <td>AUTO POSTO DA PEDRA LTDA</td>\n",
              "      <td>DELMIRO GOUVEIA</td>\n",
              "      <td>ETANOL</td>\n",
              "      <td>5.987</td>\n",
              "    </tr>\n",
              "    <tr>\n",
              "      <th>12</th>\n",
              "      <td>AUTO POSTO DA PEDRA LTDA</td>\n",
              "      <td>DELMIRO GOUVEIA</td>\n",
              "      <td>DIESEL</td>\n",
              "      <td>5.978</td>\n",
              "    </tr>\n",
              "    <tr>\n",
              "      <th>13</th>\n",
              "      <td>AUTO POSTO DA PEDRA LTDA</td>\n",
              "      <td>DELMIRO GOUVEIA</td>\n",
              "      <td>DIESEL S10</td>\n",
              "      <td>5.989</td>\n",
              "    </tr>\n",
              "    <tr>\n",
              "      <th>14</th>\n",
              "      <td>COMERCIO DE COMBUSTIVEIS NENZITA LTDA</td>\n",
              "      <td>DELMIRO GOUVEIA</td>\n",
              "      <td>GASOLINA</td>\n",
              "      <td>7.175</td>\n",
              "    </tr>\n",
              "    <tr>\n",
              "      <th>15</th>\n",
              "      <td>COMERCIO DE COMBUSTIVEIS NENZITA LTDA</td>\n",
              "      <td>DELMIRO GOUVEIA</td>\n",
              "      <td>ETANOL</td>\n",
              "      <td>5.930</td>\n",
              "    </tr>\n",
              "    <tr>\n",
              "      <th>16</th>\n",
              "      <td>COMERCIO DE COMBUSTIVEIS NENZITA LTDA</td>\n",
              "      <td>DELMIRO GOUVEIA</td>\n",
              "      <td>DIESEL</td>\n",
              "      <td>5.955</td>\n",
              "    </tr>\n",
              "    <tr>\n",
              "      <th>17</th>\n",
              "      <td>COMERCIO DE COMBUSTIVEIS NENZITA LTDA</td>\n",
              "      <td>DELMIRO GOUVEIA</td>\n",
              "      <td>GASOLINA ADITIVADA</td>\n",
              "      <td>7.175</td>\n",
              "    </tr>\n",
              "    <tr>\n",
              "      <th>18</th>\n",
              "      <td>COMERCIO DE COMBUSTIVEIS NENZITA LTDA</td>\n",
              "      <td>DELMIRO GOUVEIA</td>\n",
              "      <td>DIESEL S10</td>\n",
              "      <td>5.980</td>\n",
              "    </tr>\n",
              "    <tr>\n",
              "      <th>19</th>\n",
              "      <td>MARCOS ANTONIO DA SILVA CABRAL</td>\n",
              "      <td>ITACOATIARA</td>\n",
              "      <td>GASOLINA</td>\n",
              "      <td>6.990</td>\n",
              "    </tr>\n",
              "  </tbody>\n",
              "</table>\n",
              "</div>\n",
              "      <button class=\"colab-df-convert\" onclick=\"convertToInteractive('df-7275c5fc-90c5-44ff-a163-400ffcdf11cc')\"\n",
              "              title=\"Convert this dataframe to an interactive table.\"\n",
              "              style=\"display:none;\">\n",
              "        \n",
              "  <svg xmlns=\"http://www.w3.org/2000/svg\" height=\"24px\"viewBox=\"0 0 24 24\"\n",
              "       width=\"24px\">\n",
              "    <path d=\"M0 0h24v24H0V0z\" fill=\"none\"/>\n",
              "    <path d=\"M18.56 5.44l.94 2.06.94-2.06 2.06-.94-2.06-.94-.94-2.06-.94 2.06-2.06.94zm-11 1L8.5 8.5l.94-2.06 2.06-.94-2.06-.94L8.5 2.5l-.94 2.06-2.06.94zm10 10l.94 2.06.94-2.06 2.06-.94-2.06-.94-.94-2.06-.94 2.06-2.06.94z\"/><path d=\"M17.41 7.96l-1.37-1.37c-.4-.4-.92-.59-1.43-.59-.52 0-1.04.2-1.43.59L10.3 9.45l-7.72 7.72c-.78.78-.78 2.05 0 2.83L4 21.41c.39.39.9.59 1.41.59.51 0 1.02-.2 1.41-.59l7.78-7.78 2.81-2.81c.8-.78.8-2.07 0-2.86zM5.41 20L4 18.59l7.72-7.72 1.47 1.35L5.41 20z\"/>\n",
              "  </svg>\n",
              "      </button>\n",
              "      \n",
              "  <style>\n",
              "    .colab-df-container {\n",
              "      display:flex;\n",
              "      flex-wrap:wrap;\n",
              "      gap: 12px;\n",
              "    }\n",
              "\n",
              "    .colab-df-convert {\n",
              "      background-color: #E8F0FE;\n",
              "      border: none;\n",
              "      border-radius: 50%;\n",
              "      cursor: pointer;\n",
              "      display: none;\n",
              "      fill: #1967D2;\n",
              "      height: 32px;\n",
              "      padding: 0 0 0 0;\n",
              "      width: 32px;\n",
              "    }\n",
              "\n",
              "    .colab-df-convert:hover {\n",
              "      background-color: #E2EBFA;\n",
              "      box-shadow: 0px 1px 2px rgba(60, 64, 67, 0.3), 0px 1px 3px 1px rgba(60, 64, 67, 0.15);\n",
              "      fill: #174EA6;\n",
              "    }\n",
              "\n",
              "    [theme=dark] .colab-df-convert {\n",
              "      background-color: #3B4455;\n",
              "      fill: #D2E3FC;\n",
              "    }\n",
              "\n",
              "    [theme=dark] .colab-df-convert:hover {\n",
              "      background-color: #434B5C;\n",
              "      box-shadow: 0px 1px 3px 1px rgba(0, 0, 0, 0.15);\n",
              "      filter: drop-shadow(0px 1px 2px rgba(0, 0, 0, 0.3));\n",
              "      fill: #FFFFFF;\n",
              "    }\n",
              "  </style>\n",
              "\n",
              "      <script>\n",
              "        const buttonEl =\n",
              "          document.querySelector('#df-7275c5fc-90c5-44ff-a163-400ffcdf11cc button.colab-df-convert');\n",
              "        buttonEl.style.display =\n",
              "          google.colab.kernel.accessAllowed ? 'block' : 'none';\n",
              "\n",
              "        async function convertToInteractive(key) {\n",
              "          const element = document.querySelector('#df-7275c5fc-90c5-44ff-a163-400ffcdf11cc');\n",
              "          const dataTable =\n",
              "            await google.colab.kernel.invokeFunction('convertToInteractive',\n",
              "                                                     [key], {});\n",
              "          if (!dataTable) return;\n",
              "\n",
              "          const docLinkHtml = 'Like what you see? Visit the ' +\n",
              "            '<a target=\"_blank\" href=https://colab.research.google.com/notebooks/data_table.ipynb>data table notebook</a>'\n",
              "            + ' to learn more about interactive tables.';\n",
              "          element.innerHTML = '';\n",
              "          dataTable['output_type'] = 'display_data';\n",
              "          await google.colab.output.renderOutput(dataTable, element);\n",
              "          const docLink = document.createElement('div');\n",
              "          docLink.innerHTML = docLinkHtml;\n",
              "          element.appendChild(docLink);\n",
              "        }\n",
              "      </script>\n",
              "    </div>\n",
              "  </div>\n",
              "  "
            ]
          },
          "metadata": {}
        }
      ]
    },
    {
      "cell_type": "code",
      "source": [
        "#Criar uma nova DataFrame gas_df contendo\n",
        "# apenas as 4 colunas (Revenda, Municipio, Produto, Valor de Venda)\n",
        "# somente GASOLINA e exibir na tela\n",
        "\n",
        "gas_df = ca_df.loc[ca_df['Produto'] =='GASOLINA' ]\n",
        "display(gas_df)\n",
        "\n",
        "\n",
        "\n"
      ],
      "metadata": {
        "colab": {
          "base_uri": "https://localhost:8080/",
          "height": 236
        },
        "id": "u8yDj-29dif5",
        "outputId": "d5dbf289-5439-4461-ebc9-9ee875b23c5a"
      },
      "execution_count": 69,
      "outputs": [
        {
          "output_type": "error",
          "ename": "TypeError",
          "evalue": "ignored",
          "traceback": [
            "\u001b[0;31m---------------------------------------------------------------------------\u001b[0m",
            "\u001b[0;31mTypeError\u001b[0m                                 Traceback (most recent call last)",
            "\u001b[0;32m<ipython-input-69-00a432ac69df>\u001b[0m in \u001b[0;36m<module>\u001b[0;34m\u001b[0m\n\u001b[1;32m      4\u001b[0m \u001b[0;34m\u001b[0m\u001b[0m\n\u001b[1;32m      5\u001b[0m \u001b[0mgas_df\u001b[0m \u001b[0;34m=\u001b[0m \u001b[0mca_df\u001b[0m\u001b[0;34m.\u001b[0m\u001b[0mloc\u001b[0m\u001b[0;34m[\u001b[0m\u001b[0mca_df\u001b[0m\u001b[0;34m[\u001b[0m\u001b[0;34m'Produto'\u001b[0m\u001b[0;34m]\u001b[0m \u001b[0;34m==\u001b[0m\u001b[0;34m'GASOLINA'\u001b[0m \u001b[0;34m]\u001b[0m\u001b[0;34m\u001b[0m\u001b[0;34m\u001b[0m\u001b[0m\n\u001b[0;32m----> 6\u001b[0;31m \u001b[0mdisplay\u001b[0m\u001b[0;34m(\u001b[0m\u001b[0mgas_df\u001b[0m\u001b[0;34m)\u001b[0m\u001b[0;34m\u001b[0m\u001b[0;34m\u001b[0m\u001b[0m\n\u001b[0m\u001b[1;32m      7\u001b[0m \u001b[0;34m\u001b[0m\u001b[0m\n\u001b[1;32m      8\u001b[0m \u001b[0;34m\u001b[0m\u001b[0m\n",
            "\u001b[0;31mTypeError\u001b[0m: 'DataFrame' object is not callable"
          ]
        }
      ]
    }
  ]
}